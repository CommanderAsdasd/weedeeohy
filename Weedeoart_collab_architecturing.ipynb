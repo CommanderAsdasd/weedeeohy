{
  "cells": [
    {
      "cell_type": "markdown",
      "metadata": {
        "id": "view-in-github",
        "colab_type": "text"
      },
      "source": [
        "<a href=\"https://colab.research.google.com/github/CommanderAsdasd/weedeeohy/blob/master/Weedeoart_collab_architecturing.ipynb\" target=\"_parent\"><img src=\"https://colab.research.google.com/assets/colab-badge.svg\" alt=\"Open In Colab\"/></a>"
      ]
    },
    {
      "cell_type": "markdown",
      "metadata": {
        "id": "IAKJ6Gs0r2WL"
      },
      "source": [
        "Declarative random non-linear video editing framework\n",
        "Kinda Python YTP++ in google collab. Empowered by Moviepy and youtube-dl\n",
        "\n",
        "* Downloads part of video [x]\n",
        "* Get video length []"
      ]
    },
    {
      "cell_type": "markdown",
      "source": [
        "# Log\n",
        "\n",
        "transform ydl_opts into function - takes time as parameter"
      ],
      "metadata": {
        "id": "_sqeNG3ahxiW"
      }
    },
    {
      "cell_type": "markdown",
      "metadata": {
        "id": "vbCkPQh1MDxI"
      },
      "source": [
        "# Deps"
      ]
    },
    {
      "cell_type": "code",
      "execution_count": null,
      "metadata": {
        "colab": {
          "base_uri": "https://localhost:8080/",
          "height": 1000
        },
        "id": "jcACvYWXAhBe",
        "outputId": "55a800ec-03f5-48f2-a7f7-e52e2ad2a9aa"
      },
      "outputs": [
        {
          "output_type": "stream",
          "name": "stdout",
          "text": [
            "Looking in indexes: https://pypi.org/simple, https://us-python.pkg.dev/colab-wheels/public/simple/\n",
            "Collecting youtube-dl\n",
            "  Downloading youtube_dl-2021.12.17-py2.py3-none-any.whl (1.9 MB)\n",
            "\u001b[K     |████████████████████████████████| 1.9 MB 7.3 MB/s \n",
            "\u001b[?25hInstalling collected packages: youtube-dl\n",
            "Successfully installed youtube-dl-2021.12.17\n",
            "Looking in indexes: https://pypi.org/simple, https://us-python.pkg.dev/colab-wheels/public/simple/\n",
            "Requirement already satisfied: moviepy in /usr/local/lib/python3.7/dist-packages (0.2.3.5)\n",
            "Collecting moviepy\n",
            "  Downloading moviepy-2.0.0.dev2.tar.gz (400 kB)\n",
            "\u001b[K     |████████████████████████████████| 400 kB 5.8 MB/s \n",
            "\u001b[?25hRequirement already satisfied: decorator<5.0,>=4.0.2 in /usr/local/lib/python3.7/dist-packages (from moviepy) (4.4.2)\n",
            "Collecting imageio<3.0,>=2.5\n",
            "  Downloading imageio-2.19.3-py3-none-any.whl (3.4 MB)\n",
            "\u001b[K     |████████████████████████████████| 3.4 MB 14.9 MB/s \n",
            "\u001b[?25hCollecting imageio_ffmpeg>=0.2.0\n",
            "  Downloading imageio_ffmpeg-0.4.7-py3-none-manylinux2010_x86_64.whl (26.9 MB)\n",
            "\u001b[K     |████████████████████████████████| 26.9 MB 2.1 MB/s \n",
            "\u001b[?25hRequirement already satisfied: numpy>=1.17.3 in /usr/local/lib/python3.7/dist-packages (from moviepy) (1.21.6)\n",
            "Requirement already satisfied: requests<3.0,>=2.8.1 in /usr/local/lib/python3.7/dist-packages (from moviepy) (2.23.0)\n",
            "Collecting proglog<=1.0.0\n",
            "  Downloading proglog-0.1.10-py3-none-any.whl (6.1 kB)\n",
            "Collecting pillow>=8.3.2\n",
            "  Downloading Pillow-9.1.1-cp37-cp37m-manylinux_2_17_x86_64.manylinux2014_x86_64.whl (3.1 MB)\n",
            "\u001b[K     |████████████████████████████████| 3.1 MB 65.7 MB/s \n",
            "\u001b[?25hRequirement already satisfied: tqdm in /usr/local/lib/python3.7/dist-packages (from proglog<=1.0.0->moviepy) (4.64.0)\n",
            "Requirement already satisfied: urllib3!=1.25.0,!=1.25.1,<1.26,>=1.21.1 in /usr/local/lib/python3.7/dist-packages (from requests<3.0,>=2.8.1->moviepy) (1.24.3)\n",
            "Requirement already satisfied: chardet<4,>=3.0.2 in /usr/local/lib/python3.7/dist-packages (from requests<3.0,>=2.8.1->moviepy) (3.0.4)\n",
            "Requirement already satisfied: certifi>=2017.4.17 in /usr/local/lib/python3.7/dist-packages (from requests<3.0,>=2.8.1->moviepy) (2022.5.18.1)\n",
            "Requirement already satisfied: idna<3,>=2.5 in /usr/local/lib/python3.7/dist-packages (from requests<3.0,>=2.8.1->moviepy) (2.10)\n",
            "Building wheels for collected packages: moviepy\n",
            "  Building wheel for moviepy (setup.py) ... \u001b[?25l\u001b[?25hdone\n",
            "  Created wheel for moviepy: filename=moviepy-2.0.0.dev2-py3-none-any.whl size=111695 sha256=7c95559734f6721f565e791bf110d21c1c6e24d87f9534dd882f6c5ed8de3480\n",
            "  Stored in directory: /root/.cache/pip/wheels/9d/e3/7f/b8ac3b11d4b27484e343a12321725f02fa2ffbf73c551f246a\n",
            "Successfully built moviepy\n",
            "Installing collected packages: pillow, proglog, imageio-ffmpeg, imageio, moviepy\n",
            "  Attempting uninstall: pillow\n",
            "    Found existing installation: Pillow 7.1.2\n",
            "    Uninstalling Pillow-7.1.2:\n",
            "      Successfully uninstalled Pillow-7.1.2\n",
            "  Attempting uninstall: imageio\n",
            "    Found existing installation: imageio 2.4.1\n",
            "    Uninstalling imageio-2.4.1:\n",
            "      Successfully uninstalled imageio-2.4.1\n",
            "  Attempting uninstall: moviepy\n",
            "    Found existing installation: moviepy 0.2.3.5\n",
            "    Uninstalling moviepy-0.2.3.5:\n",
            "      Successfully uninstalled moviepy-0.2.3.5\n",
            "\u001b[31mERROR: pip's dependency resolver does not currently take into account all the packages that are installed. This behaviour is the source of the following dependency conflicts.\n",
            "albumentations 0.1.12 requires imgaug<0.2.7,>=0.2.5, but you have imgaug 0.2.9 which is incompatible.\u001b[0m\n",
            "Successfully installed imageio-2.19.3 imageio-ffmpeg-0.4.7 moviepy-2.0.0.dev2 pillow-9.1.1 proglog-0.1.10\n"
          ]
        },
        {
          "output_type": "display_data",
          "data": {
            "application/vnd.colab-display-data+json": {
              "pip_warning": {
                "packages": [
                  "PIL"
                ]
              }
            }
          },
          "metadata": {}
        }
      ],
      "source": [
        "!pip install youtube-dl\n",
        "!pip install moviepy --pre --upgrade\n",
        "# !pip install git+git://github.com/AWConant/jikanpy.git\n",
        "# !pip install pycodestyle pycodestyle_magic\n",
        "# !pip install flake8\n",
        "# %load_ext pycodestyle_magic"
      ]
    },
    {
      "cell_type": "code",
      "source": [
        "!add-apt-repository -y ppa:jonathonf/ffmpeg-4\n",
        "!apt update\n",
        "!apt install mediainfo\n",
        "!apt install ffmpeg"
      ],
      "metadata": {
        "colab": {
          "base_uri": "https://localhost:8080/"
        },
        "id": "pRO1sjcZCbsT",
        "outputId": "f9216313-40d6-4e17-9964-9c9ecc3d0424"
      },
      "execution_count": null,
      "outputs": [
        {
          "output_type": "stream",
          "name": "stdout",
          "text": [
            "\r0% [Working]\r            \rGet:1 https://developer.download.nvidia.com/compute/cuda/repos/ubuntu1804/x86_64  InRelease [1,581 B]\n",
            "\r0% [Connecting to archive.ubuntu.com] [Connecting to security.ubuntu.com (91.18\r0% [Connecting to archive.ubuntu.com] [Connecting to security.ubuntu.com (91.18\r                                                                               \rGet:2 https://cloud.r-project.org/bin/linux/ubuntu bionic-cran40/ InRelease [3,626 B]\n",
            "\r0% [Connecting to archive.ubuntu.com] [Connecting to security.ubuntu.com (91.18\r0% [1 InRelease gpgv 1,581 B] [Connecting to archive.ubuntu.com] [Connecting to\r                                                                               \rIgn:3 https://developer.download.nvidia.com/compute/machine-learning/repos/ubuntu1804/x86_64  InRelease\n",
            "Hit:4 https://developer.download.nvidia.com/compute/machine-learning/repos/ubuntu1804/x86_64  Release\n",
            "Get:5 http://security.ubuntu.com/ubuntu bionic-security InRelease [88.7 kB]\n",
            "Get:6 https://developer.download.nvidia.com/compute/cuda/repos/ubuntu1804/x86_64  Packages [806 kB]\n",
            "Hit:7 http://archive.ubuntu.com/ubuntu bionic InRelease\n",
            "Get:8 http://ppa.launchpad.net/c2d4u.team/c2d4u4.0+/ubuntu bionic InRelease [15.9 kB]\n",
            "Get:9 http://archive.ubuntu.com/ubuntu bionic-updates InRelease [88.7 kB]\n",
            "Get:10 http://archive.ubuntu.com/ubuntu bionic-backports InRelease [74.6 kB]\n",
            "Hit:12 http://ppa.launchpad.net/cran/libgit2/ubuntu bionic InRelease\n",
            "Get:13 http://ppa.launchpad.net/deadsnakes/ppa/ubuntu bionic InRelease [15.9 kB]\n",
            "Get:14 http://security.ubuntu.com/ubuntu bionic-security/universe amd64 Packages [1,517 kB]\n",
            "Get:15 http://ppa.launchpad.net/graphics-drivers/ppa/ubuntu bionic InRelease [21.3 kB]\n",
            "Get:16 http://security.ubuntu.com/ubuntu bionic-security/restricted amd64 Packages [982 kB]\n",
            "Get:17 http://security.ubuntu.com/ubuntu bionic-security/main amd64 Packages [2,830 kB]\n",
            "Get:18 http://archive.ubuntu.com/ubuntu bionic-updates/restricted amd64 Packages [1,015 kB]\n",
            "Get:19 http://ppa.launchpad.net/jonathonf/ffmpeg-4/ubuntu bionic InRelease [15.9 kB]\n",
            "Get:20 http://archive.ubuntu.com/ubuntu bionic-updates/universe amd64 Packages [2,291 kB]\n",
            "Get:21 http://archive.ubuntu.com/ubuntu bionic-updates/main amd64 Packages [3,262 kB]\n",
            "Get:22 http://ppa.launchpad.net/c2d4u.team/c2d4u4.0+/ubuntu bionic/main Sources [1,992 kB]\n",
            "Get:23 http://ppa.launchpad.net/c2d4u.team/c2d4u4.0+/ubuntu bionic/main amd64 Packages [1,021 kB]\n",
            "Get:24 http://ppa.launchpad.net/deadsnakes/ppa/ubuntu bionic/main amd64 Packages [45.3 kB]\n",
            "Get:25 http://ppa.launchpad.net/graphics-drivers/ppa/ubuntu bionic/main amd64 Packages [47.7 kB]\n",
            "Get:26 http://ppa.launchpad.net/jonathonf/ffmpeg-4/ubuntu bionic/main amd64 Packages [12.5 kB]\n",
            "Fetched 16.1 MB in 6s (2,834 kB/s)\n",
            "Reading package lists... Done\n",
            "Hit:1 https://cloud.r-project.org/bin/linux/ubuntu bionic-cran40/ InRelease\n",
            "Hit:2 https://developer.download.nvidia.com/compute/cuda/repos/ubuntu1804/x86_64  InRelease\n",
            "Ign:3 https://developer.download.nvidia.com/compute/machine-learning/repos/ubuntu1804/x86_64  InRelease\n",
            "Hit:4 https://developer.download.nvidia.com/compute/machine-learning/repos/ubuntu1804/x86_64  Release\n",
            "Hit:5 http://security.ubuntu.com/ubuntu bionic-security InRelease\n",
            "Hit:6 http://archive.ubuntu.com/ubuntu bionic InRelease\n",
            "Hit:7 http://archive.ubuntu.com/ubuntu bionic-updates InRelease\n",
            "Hit:8 http://ppa.launchpad.net/c2d4u.team/c2d4u4.0+/ubuntu bionic InRelease\n",
            "Hit:9 http://archive.ubuntu.com/ubuntu bionic-backports InRelease\n",
            "Hit:10 http://ppa.launchpad.net/cran/libgit2/ubuntu bionic InRelease\n",
            "Hit:11 http://ppa.launchpad.net/deadsnakes/ppa/ubuntu bionic InRelease\n",
            "Hit:13 http://ppa.launchpad.net/graphics-drivers/ppa/ubuntu bionic InRelease\n",
            "Hit:14 http://ppa.launchpad.net/jonathonf/ffmpeg-4/ubuntu bionic InRelease\n",
            "Reading package lists... Done\n",
            "Building dependency tree       \n",
            "Reading state information... Done\n",
            "90 packages can be upgraded. Run 'apt list --upgradable' to see them.\n",
            "Reading package lists... Done\n",
            "Building dependency tree       \n",
            "Reading state information... Done\n",
            "The following package was automatically installed and is no longer required:\n",
            "  libnvidia-common-460\n",
            "Use 'apt autoremove' to remove it.\n",
            "The following additional packages will be installed:\n",
            "  libmediainfo0v5 libmms0 libtinyxml2-6 libzen0v5\n",
            "Suggested packages:\n",
            "  mediainfo-gui\n",
            "The following NEW packages will be installed:\n",
            "  libmediainfo0v5 libmms0 libtinyxml2-6 libzen0v5 mediainfo\n",
            "0 upgraded, 5 newly installed, 0 to remove and 90 not upgraded.\n",
            "Need to get 2,044 kB of archives.\n",
            "After this operation, 7,024 kB of additional disk space will be used.\n",
            "Get:1 http://archive.ubuntu.com/ubuntu bionic/universe amd64 libmms0 amd64 0.6.4-2 [27.4 kB]\n",
            "Get:2 http://archive.ubuntu.com/ubuntu bionic/universe amd64 libtinyxml2-6 amd64 6.0.0+dfsg-1 [27.9 kB]\n",
            "Get:3 http://archive.ubuntu.com/ubuntu bionic/universe amd64 libzen0v5 amd64 0.4.37-1 [94.0 kB]\n",
            "Get:4 http://archive.ubuntu.com/ubuntu bionic-updates/universe amd64 libmediainfo0v5 amd64 17.12-1ubuntu0.1 [1,865 kB]\n",
            "Get:5 http://archive.ubuntu.com/ubuntu bionic/universe amd64 mediainfo amd64 17.12-1 [29.5 kB]\n",
            "Fetched 2,044 kB in 1s (2,464 kB/s)\n",
            "Selecting previously unselected package libmms0:amd64.\n",
            "(Reading database ... 155632 files and directories currently installed.)\n",
            "Preparing to unpack .../libmms0_0.6.4-2_amd64.deb ...\n",
            "Unpacking libmms0:amd64 (0.6.4-2) ...\n",
            "Selecting previously unselected package libtinyxml2-6:amd64.\n",
            "Preparing to unpack .../libtinyxml2-6_6.0.0+dfsg-1_amd64.deb ...\n",
            "Unpacking libtinyxml2-6:amd64 (6.0.0+dfsg-1) ...\n",
            "Selecting previously unselected package libzen0v5:amd64.\n",
            "Preparing to unpack .../libzen0v5_0.4.37-1_amd64.deb ...\n",
            "Unpacking libzen0v5:amd64 (0.4.37-1) ...\n",
            "Selecting previously unselected package libmediainfo0v5:amd64.\n",
            "Preparing to unpack .../libmediainfo0v5_17.12-1ubuntu0.1_amd64.deb ...\n",
            "Unpacking libmediainfo0v5:amd64 (17.12-1ubuntu0.1) ...\n",
            "Selecting previously unselected package mediainfo.\n",
            "Preparing to unpack .../mediainfo_17.12-1_amd64.deb ...\n",
            "Unpacking mediainfo (17.12-1) ...\n",
            "Setting up libtinyxml2-6:amd64 (6.0.0+dfsg-1) ...\n",
            "Setting up libmms0:amd64 (0.6.4-2) ...\n",
            "Setting up libzen0v5:amd64 (0.4.37-1) ...\n",
            "Setting up libmediainfo0v5:amd64 (17.12-1ubuntu0.1) ...\n",
            "Setting up mediainfo (17.12-1) ...\n",
            "Processing triggers for man-db (2.8.3-2ubuntu0.1) ...\n",
            "Processing triggers for libc-bin (2.27-3ubuntu1.3) ...\n",
            "/sbin/ldconfig.real: /usr/local/lib/python3.7/dist-packages/ideep4py/lib/libmkldnn.so.0 is not a symbolic link\n",
            "\n",
            "Reading package lists... Done\n",
            "Building dependency tree       \n",
            "Reading state information... Done\n",
            "The following package was automatically installed and is no longer required:\n",
            "  libnvidia-common-460\n",
            "Use 'apt autoremove' to remove it.\n",
            "The following additional packages will be installed:\n",
            "  libaom0 libavcodec58 libavdevice58 libavfilter7 libavformat58 libavresample4\n",
            "  libavutil56 libcodec2-0.7 liblilv-0-0 libmysofa1 libpocketsphinx3\n",
            "  libpostproc55 librabbitmq4 libserd-0-0 libsord-0-0 libsphinxbase3\n",
            "  libsratom-0-0 libsrt1-gnutls libswresample3 libswscale5 libvidstab1.1\n",
            "  libx264-155 libx265-192 libzimg2\n",
            "Suggested packages:\n",
            "  ffmpeg-doc serdi sordi\n",
            "Recommended packages:\n",
            "  pocketsphinx-hmm-en-hub4wsj | pocketsphinx-hmm-zh-tdt\n",
            "  | pocketsphinx-hmm-en-tidigits pocketsphinx-lm-en-hub4\n",
            "  | pocketsphinx-lm-zh-hans-gigatdt | pocketsphinx-lm-zh-hant-gigatdt\n",
            "The following NEW packages will be installed:\n",
            "  libaom0 libavcodec58 libavdevice58 libavfilter7 libavformat58 libavresample4\n",
            "  libavutil56 libcodec2-0.7 liblilv-0-0 libmysofa1 libpocketsphinx3\n",
            "  libpostproc55 librabbitmq4 libserd-0-0 libsord-0-0 libsphinxbase3\n",
            "  libsratom-0-0 libsrt1-gnutls libswresample3 libswscale5 libvidstab1.1\n",
            "  libx264-155 libx265-192 libzimg2\n",
            "The following packages will be upgraded:\n",
            "  ffmpeg\n",
            "1 upgraded, 24 newly installed, 0 to remove and 89 not upgraded.\n",
            "Need to get 13.4 MB of archives.\n",
            "After this operation, 49.3 MB of additional disk space will be used.\n",
            "Get:1 http://archive.ubuntu.com/ubuntu bionic/universe amd64 libcodec2-0.7 amd64 0.7-1 [202 kB]\n",
            "Get:2 http://ppa.launchpad.net/jonathonf/ffmpeg-4/ubuntu bionic/main amd64 libaom0 amd64 1.0.0.errata1-3~18.04.york0 [1,165 kB]\n",
            "Get:3 http://archive.ubuntu.com/ubuntu bionic-updates/universe amd64 librabbitmq4 amd64 0.8.0-1ubuntu0.18.04.2 [33.9 kB]\n",
            "Get:4 http://archive.ubuntu.com/ubuntu bionic/universe amd64 libserd-0-0 amd64 0.28.0~dfsg0-1 [37.0 kB]\n",
            "Get:5 http://archive.ubuntu.com/ubuntu bionic/universe amd64 libsord-0-0 amd64 0.16.0~dfsg0-1 [20.2 kB]\n",
            "Get:6 http://archive.ubuntu.com/ubuntu bionic/universe amd64 libsratom-0-0 amd64 0.6.0~dfsg0-1 [15.8 kB]\n",
            "Get:7 http://archive.ubuntu.com/ubuntu bionic/universe amd64 liblilv-0-0 amd64 0.24.2~dfsg0-1 [38.0 kB]\n",
            "Get:8 http://archive.ubuntu.com/ubuntu bionic/universe amd64 libsphinxbase3 amd64 0.8+5prealpha+1-1 [118 kB]\n",
            "Get:9 http://archive.ubuntu.com/ubuntu bionic/universe amd64 libpocketsphinx3 amd64 0.8.0+real5prealpha-1ubuntu2 [122 kB]\n",
            "Get:10 http://ppa.launchpad.net/jonathonf/ffmpeg-4/ubuntu bionic/main amd64 libavutil56 amd64 7:4.3.2-0york0~18.04 [295 kB]\n",
            "Get:11 http://ppa.launchpad.net/jonathonf/ffmpeg-4/ubuntu bionic/main amd64 libswresample3 amd64 7:4.3.2-0york0~18.04 [70.0 kB]\n",
            "Get:12 http://ppa.launchpad.net/jonathonf/ffmpeg-4/ubuntu bionic/main amd64 libx264-155 amd64 2:0.155.2917+git0a84d98-2~18.04.york0 [529 kB]\n",
            "Get:13 http://ppa.launchpad.net/jonathonf/ffmpeg-4/ubuntu bionic/main amd64 libx265-192 amd64 3.4-0york0~18.04 [1,086 kB]\n",
            "Get:14 http://ppa.launchpad.net/jonathonf/ffmpeg-4/ubuntu bionic/main amd64 libavcodec58 amd64 7:4.3.2-0york0~18.04 [4,952 kB]\n",
            "Get:15 http://ppa.launchpad.net/jonathonf/ffmpeg-4/ubuntu bionic/main amd64 libsrt1-gnutls amd64 1.4.1-5~18.04.york0 [235 kB]\n",
            "Get:16 http://ppa.launchpad.net/jonathonf/ffmpeg-4/ubuntu bionic/main amd64 libavformat58 amd64 7:4.3.2-0york0~18.04 [1,043 kB]\n",
            "Get:17 http://ppa.launchpad.net/jonathonf/ffmpeg-4/ubuntu bionic/main amd64 libmysofa1 amd64 1.0~dfsg0-2~18.04.york0 [39.3 kB]\n",
            "Get:18 http://ppa.launchpad.net/jonathonf/ffmpeg-4/ubuntu bionic/main amd64 libpostproc55 amd64 7:4.3.2-0york0~18.04 [65.0 kB]\n",
            "Get:19 http://ppa.launchpad.net/jonathonf/ffmpeg-4/ubuntu bionic/main amd64 libswscale5 amd64 7:4.3.2-0york0~18.04 [171 kB]\n",
            "Get:20 http://ppa.launchpad.net/jonathonf/ffmpeg-4/ubuntu bionic/main amd64 libvidstab1.1 amd64 1.1.0-2~18.04.york1 [36.6 kB]\n",
            "Get:21 http://ppa.launchpad.net/jonathonf/ffmpeg-4/ubuntu bionic/main amd64 libzimg2 amd64 3.0.1-0york0~18.04 [183 kB]\n",
            "Get:22 http://ppa.launchpad.net/jonathonf/ffmpeg-4/ubuntu bionic/main amd64 libavfilter7 amd64 7:4.3.2-0york0~18.04 [1,254 kB]\n",
            "Get:23 http://ppa.launchpad.net/jonathonf/ffmpeg-4/ubuntu bionic/main amd64 libavdevice58 amd64 7:4.3.2-0york0~18.04 [90.0 kB]\n",
            "Get:24 http://ppa.launchpad.net/jonathonf/ffmpeg-4/ubuntu bionic/main amd64 libavresample4 amd64 7:4.3.2-0york0~18.04 [67.3 kB]\n",
            "Get:25 http://ppa.launchpad.net/jonathonf/ffmpeg-4/ubuntu bionic/main amd64 ffmpeg amd64 7:4.3.2-0york0~18.04 [1,556 kB]\n",
            "Fetched 13.4 MB in 14s (961 kB/s)\n",
            "Selecting previously unselected package libaom0:amd64.\n",
            "(Reading database ... 155659 files and directories currently installed.)\n",
            "Preparing to unpack .../00-libaom0_1.0.0.errata1-3~18.04.york0_amd64.deb ...\n",
            "Unpacking libaom0:amd64 (1.0.0.errata1-3~18.04.york0) ...\n",
            "Selecting previously unselected package libavutil56:amd64.\n",
            "Preparing to unpack .../01-libavutil56_7%3a4.3.2-0york0~18.04_amd64.deb ...\n",
            "Unpacking libavutil56:amd64 (7:4.3.2-0york0~18.04) ...\n",
            "Selecting previously unselected package libcodec2-0.7:amd64.\n",
            "Preparing to unpack .../02-libcodec2-0.7_0.7-1_amd64.deb ...\n",
            "Unpacking libcodec2-0.7:amd64 (0.7-1) ...\n",
            "Selecting previously unselected package libswresample3:amd64.\n",
            "Preparing to unpack .../03-libswresample3_7%3a4.3.2-0york0~18.04_amd64.deb ...\n",
            "Unpacking libswresample3:amd64 (7:4.3.2-0york0~18.04) ...\n",
            "Selecting previously unselected package libx264-155:amd64.\n",
            "Preparing to unpack .../04-libx264-155_2%3a0.155.2917+git0a84d98-2~18.04.york0_amd64.deb ...\n",
            "Unpacking libx264-155:amd64 (2:0.155.2917+git0a84d98-2~18.04.york0) ...\n",
            "Selecting previously unselected package libx265-192:amd64.\n",
            "Preparing to unpack .../05-libx265-192_3.4-0york0~18.04_amd64.deb ...\n",
            "Unpacking libx265-192:amd64 (3.4-0york0~18.04) ...\n",
            "Selecting previously unselected package libavcodec58:amd64.\n",
            "Preparing to unpack .../06-libavcodec58_7%3a4.3.2-0york0~18.04_amd64.deb ...\n",
            "Unpacking libavcodec58:amd64 (7:4.3.2-0york0~18.04) ...\n",
            "Selecting previously unselected package librabbitmq4:amd64.\n",
            "Preparing to unpack .../07-librabbitmq4_0.8.0-1ubuntu0.18.04.2_amd64.deb ...\n",
            "Unpacking librabbitmq4:amd64 (0.8.0-1ubuntu0.18.04.2) ...\n",
            "Selecting previously unselected package libsrt1-gnutls:amd64.\n",
            "Preparing to unpack .../08-libsrt1-gnutls_1.4.1-5~18.04.york0_amd64.deb ...\n",
            "Unpacking libsrt1-gnutls:amd64 (1.4.1-5~18.04.york0) ...\n",
            "Selecting previously unselected package libavformat58:amd64.\n",
            "Preparing to unpack .../09-libavformat58_7%3a4.3.2-0york0~18.04_amd64.deb ...\n",
            "Unpacking libavformat58:amd64 (7:4.3.2-0york0~18.04) ...\n",
            "Selecting previously unselected package libserd-0-0:amd64.\n",
            "Preparing to unpack .../10-libserd-0-0_0.28.0~dfsg0-1_amd64.deb ...\n",
            "Unpacking libserd-0-0:amd64 (0.28.0~dfsg0-1) ...\n",
            "Selecting previously unselected package libsord-0-0:amd64.\n",
            "Preparing to unpack .../11-libsord-0-0_0.16.0~dfsg0-1_amd64.deb ...\n",
            "Unpacking libsord-0-0:amd64 (0.16.0~dfsg0-1) ...\n",
            "Selecting previously unselected package libsratom-0-0:amd64.\n",
            "Preparing to unpack .../12-libsratom-0-0_0.6.0~dfsg0-1_amd64.deb ...\n",
            "Unpacking libsratom-0-0:amd64 (0.6.0~dfsg0-1) ...\n",
            "Selecting previously unselected package liblilv-0-0.\n",
            "Preparing to unpack .../13-liblilv-0-0_0.24.2~dfsg0-1_amd64.deb ...\n",
            "Unpacking liblilv-0-0 (0.24.2~dfsg0-1) ...\n",
            "Selecting previously unselected package libmysofa1:amd64.\n",
            "Preparing to unpack .../14-libmysofa1_1.0~dfsg0-2~18.04.york0_amd64.deb ...\n",
            "Unpacking libmysofa1:amd64 (1.0~dfsg0-2~18.04.york0) ...\n",
            "Selecting previously unselected package libsphinxbase3:amd64.\n",
            "Preparing to unpack .../15-libsphinxbase3_0.8+5prealpha+1-1_amd64.deb ...\n",
            "Unpacking libsphinxbase3:amd64 (0.8+5prealpha+1-1) ...\n",
            "Selecting previously unselected package libpocketsphinx3:amd64.\n",
            "Preparing to unpack .../16-libpocketsphinx3_0.8.0+real5prealpha-1ubuntu2_amd64.deb ...\n",
            "Unpacking libpocketsphinx3:amd64 (0.8.0+real5prealpha-1ubuntu2) ...\n",
            "Selecting previously unselected package libpostproc55:amd64.\n",
            "Preparing to unpack .../17-libpostproc55_7%3a4.3.2-0york0~18.04_amd64.deb ...\n",
            "Unpacking libpostproc55:amd64 (7:4.3.2-0york0~18.04) ...\n",
            "Selecting previously unselected package libswscale5:amd64.\n",
            "Preparing to unpack .../18-libswscale5_7%3a4.3.2-0york0~18.04_amd64.deb ...\n",
            "Unpacking libswscale5:amd64 (7:4.3.2-0york0~18.04) ...\n",
            "Selecting previously unselected package libvidstab1.1:amd64.\n",
            "Preparing to unpack .../19-libvidstab1.1_1.1.0-2~18.04.york1_amd64.deb ...\n",
            "Unpacking libvidstab1.1:amd64 (1.1.0-2~18.04.york1) ...\n",
            "Selecting previously unselected package libzimg2.\n",
            "Preparing to unpack .../20-libzimg2_3.0.1-0york0~18.04_amd64.deb ...\n",
            "Unpacking libzimg2 (3.0.1-0york0~18.04) ...\n",
            "Selecting previously unselected package libavfilter7:amd64.\n",
            "Preparing to unpack .../21-libavfilter7_7%3a4.3.2-0york0~18.04_amd64.deb ...\n",
            "Unpacking libavfilter7:amd64 (7:4.3.2-0york0~18.04) ...\n",
            "Selecting previously unselected package libavdevice58:amd64.\n",
            "Preparing to unpack .../22-libavdevice58_7%3a4.3.2-0york0~18.04_amd64.deb ...\n",
            "Unpacking libavdevice58:amd64 (7:4.3.2-0york0~18.04) ...\n",
            "Selecting previously unselected package libavresample4:amd64.\n",
            "Preparing to unpack .../23-libavresample4_7%3a4.3.2-0york0~18.04_amd64.deb ...\n",
            "Unpacking libavresample4:amd64 (7:4.3.2-0york0~18.04) ...\n",
            "Preparing to unpack .../24-ffmpeg_7%3a4.3.2-0york0~18.04_amd64.deb ...\n",
            "Unpacking ffmpeg (7:4.3.2-0york0~18.04) over (7:3.4.8-0ubuntu0.2) ...\n",
            "Setting up libx264-155:amd64 (2:0.155.2917+git0a84d98-2~18.04.york0) ...\n",
            "Setting up libsphinxbase3:amd64 (0.8+5prealpha+1-1) ...\n",
            "Setting up libavutil56:amd64 (7:4.3.2-0york0~18.04) ...\n",
            "Setting up libzimg2 (3.0.1-0york0~18.04) ...\n",
            "Setting up libpocketsphinx3:amd64 (0.8.0+real5prealpha-1ubuntu2) ...\n",
            "Setting up libpostproc55:amd64 (7:4.3.2-0york0~18.04) ...\n",
            "Setting up libavresample4:amd64 (7:4.3.2-0york0~18.04) ...\n",
            "Setting up libsrt1-gnutls:amd64 (1.4.1-5~18.04.york0) ...\n",
            "Setting up libmysofa1:amd64 (1.0~dfsg0-2~18.04.york0) ...\n",
            "Setting up libvidstab1.1:amd64 (1.1.0-2~18.04.york1) ...\n",
            "Setting up libcodec2-0.7:amd64 (0.7-1) ...\n",
            "Setting up librabbitmq4:amd64 (0.8.0-1ubuntu0.18.04.2) ...\n",
            "Setting up libaom0:amd64 (1.0.0.errata1-3~18.04.york0) ...\n",
            "Setting up libserd-0-0:amd64 (0.28.0~dfsg0-1) ...\n",
            "Setting up libx265-192:amd64 (3.4-0york0~18.04) ...\n",
            "Setting up libswscale5:amd64 (7:4.3.2-0york0~18.04) ...\n",
            "Setting up libswresample3:amd64 (7:4.3.2-0york0~18.04) ...\n",
            "Setting up libsord-0-0:amd64 (0.16.0~dfsg0-1) ...\n",
            "Setting up libsratom-0-0:amd64 (0.6.0~dfsg0-1) ...\n",
            "Setting up libavcodec58:amd64 (7:4.3.2-0york0~18.04) ...\n",
            "Setting up liblilv-0-0 (0.24.2~dfsg0-1) ...\n",
            "Setting up libavformat58:amd64 (7:4.3.2-0york0~18.04) ...\n",
            "Setting up libavfilter7:amd64 (7:4.3.2-0york0~18.04) ...\n",
            "Setting up libavdevice58:amd64 (7:4.3.2-0york0~18.04) ...\n",
            "Setting up ffmpeg (7:4.3.2-0york0~18.04) ...\n",
            "Removing obsolete conffile /etc/ffserver.conf ...\n",
            "Processing triggers for libc-bin (2.27-3ubuntu1.3) ...\n",
            "/sbin/ldconfig.real: /usr/local/lib/python3.7/dist-packages/ideep4py/lib/libmkldnn.so.0 is not a symbolic link\n",
            "\n",
            "Processing triggers for man-db (2.8.3-2ubuntu0.1) ...\n"
          ]
        }
      ]
    },
    {
      "cell_type": "markdown",
      "metadata": {
        "id": "FXhxF1M_xDYQ"
      },
      "source": [
        "## imports"
      ]
    },
    {
      "cell_type": "code",
      "execution_count": null,
      "metadata": {
        "id": "nlThzPJmxC_y"
      },
      "outputs": [],
      "source": [
        "import moviepy.editor\n",
        "import numpy\n",
        "# import random\n",
        "import datetime\n",
        "import youtube_dl\n",
        "from IPython.display import HTML\n",
        "from base64 import b64encode\n",
        "from google.colab import files"
      ]
    },
    {
      "cell_type": "markdown",
      "metadata": {
        "id": "mptcviceKozy"
      },
      "source": [
        "# Weedeeo\n",
        "\n",
        "declarative random non-linear video editing framework"
      ]
    },
    {
      "cell_type": "code",
      "source": [
        "# numpy.random.choice([\"a\",\"b\",\"c\"],5,p=[0.5]).tolist()\n"
      ],
      "metadata": {
        "id": "X172PSENxZrC"
      },
      "execution_count": null,
      "outputs": []
    },
    {
      "cell_type": "code",
      "source": [
        "# %reload_ext pycodestyle_magic\n",
        "import abc\n",
        "from collections import namedtuple\n",
        "\n",
        "# you should find abstraction, not invent it\n",
        "\n",
        "\n",
        "# weedeoFile - weedeo\n",
        "# read all comments sometimes im emacs\n",
        "# specific question: how in detail clips should be turned into sequence?\n",
        "# I got: url, filepath, dirpath\n",
        "# filepath - pickup as clip\n",
        "# to make Weedeo.video interface I need to split up them as module or use the methods (only 2 levels in depth?)\n",
        "# Weedeo(?observer) - [Source.url()] - [Distribution](goes to)[Effect(@)] - [File - Clip] - [Project - [Sequence (@2)] - Clip] - [Logger]\n",
        "# What will begin the chain of transformations? I have URL. I want download video (probably part) - fill a (@sequence) with it.  \n",
        "# [2] when I'm done call sequence.render()\n",
        "# anyway \n",
        "\n",
        "\n",
        "def p(f):\n",
        "  return print(func())\n",
        "\n",
        "\n",
        "class Weedeo():\n",
        "  #TODO make .get funcion, and use it inside __getitem__\n",
        "  '''factory'''\n",
        "\n",
        "  @staticmethod\n",
        "  def file(path):\n",
        "    return WeedeoFile(path)\n",
        "\n",
        "  @staticmethod\n",
        "  def url():\n",
        "    raise NotImplementedError\n",
        "\n",
        "    \n",
        "  def __add__():\n",
        "    raise NotImplementedError\n",
        "\n",
        "  @staticmethod\n",
        "  def video(video):\n",
        "    return WeedeoClip(video)\n",
        "\n",
        "  @staticmethod\n",
        "  def sequence():\n",
        "    return WeedeoSequence()\n",
        "\n",
        "  def take():\n",
        "    raise NotImplementedError()\n",
        "  \n",
        "  def __get__():\n",
        "    raise NotImplementedError\n",
        "\n",
        "\n",
        "class WeedeoSource():\n",
        "\n",
        "\n",
        "  sources = []\n",
        "  def __init__(self, *args):\n",
        "    # print(args)\n",
        "    self.sources = args\n",
        "    # self.sources = set(self.sources.append(args))\n",
        "\n",
        "      \n",
        "\n",
        "\n",
        "# WeedeoEffect().list_effects()\n",
        "\n",
        "class WeedeoFile():\n",
        "\n",
        "  def _turn_clip():\n",
        "    moviepy.editor.VideoFileClip(path)\n",
        "\n",
        "  def __init__(self, path):\n",
        "    # if I will try to make clip another class - I will need to change this coupled moviepy.editor to another code. Better to abstract it.  \n",
        "    self.path = path\n",
        "\n",
        "  def __add__(self, other):\n",
        "    return WeedeoSource(self, other)\n",
        "\n",
        "  def get(self, count=1):\n",
        "    return [self.clip] * count\n",
        "\n",
        "  def __getitem__(self, index):\n",
        "    # [i] I understood why they propose just use supposed method and try/catch if \n",
        "    # if isinstance(index, slice):\n",
        "    try:\n",
        "      return [self.clip] * index.start\n",
        "    except AttributeError:\n",
        "      return [self.clip] * index\n",
        "\n",
        "class WeedeoDistribution():\n",
        "  pass\n",
        "\n",
        "\n",
        "class WeedeoClip():\n",
        "  \n",
        "  def __init__(self):\n",
        "    self.clip = clip()\n",
        "\n",
        "\n",
        "class WeedeoSequence(WeedeoClip):\n",
        "  '''\n",
        "  >>> WeedeoSequence(WeedeoFile())\n",
        "  '''\n",
        "\n",
        "  def __init__(*clips):\n",
        "    self.clips = []\n",
        "    self.clips.append(clips)\n",
        "\n",
        "  def _compose(self):\n",
        "    return CompositeVideoClip(self.clips)\n",
        "\n",
        "  def render():\n",
        "    composition = weedeo.compose()\n",
        "    self.write_videofile(self.clips)\n",
        "        \n",
        "\n"
      ],
      "metadata": {
        "id": "YHBBcOXFyVMW"
      },
      "execution_count": null,
      "outputs": []
    },
    {
      "cell_type": "markdown",
      "metadata": {
        "id": "HkNLKN2yJ8UT"
      },
      "source": [
        "\n",
        "\n",
        "## Effects"
      ]
    },
    {
      "cell_type": "code",
      "execution_count": null,
      "metadata": {
        "id": "Je1HVohnKFnk"
      },
      "outputs": [],
      "source": [
        "def invert_green_blue(image):\n",
        "    im_out = random.randint(0,255) - image[:,:,(0,1,2)]\n",
        "    return im_out"
      ]
    },
    {
      "cell_type": "markdown",
      "source": [
        "# Downloader"
      ],
      "metadata": {
        "id": "or4_3M1TUfbS"
      }
    },
    {
      "cell_type": "code",
      "execution_count": null,
      "metadata": {
        "id": "RSzPHOtu-Hjp",
        "colab": {
          "base_uri": "https://localhost:8080/"
        },
        "outputId": "8b881c39-c9ba-4f4d-9c46-c6377bb0f3ef"
      },
      "outputs": [
        {
          "output_type": "stream",
          "name": "stderr",
          "text": [
            "[debug] Encodings: locale UTF-8, fs utf-8, out UTF-8, pref UTF-8\n",
            "[debug] youtube-dl version 2021.12.17\n",
            "[debug] Python version 3.7.13 (CPython) - Linux-5.4.188+-x86_64-with-Ubuntu-18.04-bionic\n",
            "[debug] exe versions: ffmpeg 4.3.2-0york0, ffprobe 4.3.2-0york0\n",
            "[debug] Proxy map: {}\n"
          ]
        },
        {
          "output_type": "stream",
          "name": "stdout",
          "text": [
            "[youtube] 57vv4meBMB8: Downloading webpage\n",
            "[debug] Invoking downloader on 'https://rr2---sn-q4flrnl6.googlevideo.com/videoplayback?expire=1655166225&ei=sYCnYtnBHdrmkgbivKrwDA&ip=34.125.228.75&id=o-AJp1wmoK1ANjLs411pEDnQ6O5wJ_q5pbpEexThAKI5th&itag=18&source=youtube&requiressl=yes&mh=OT&mm=31%2C29&mn=sn-q4flrnl6%2Csn-q4fl6ns7&ms=au%2Crdu&mv=u&mvi=2&pl=24&spc=4ocVC_slNh99NAXsqUtPYmybuDKflfQ&vprv=1&mime=video%2Fmp4&ns=TzLvW42-RPQs-0x5GbbNrYAG&gir=yes&clen=23929571&ratebypass=yes&dur=582.240&lmt=1429702818095855&mt=1655144072&fvip=3&fexp=24001373%2C24007246&c=WEB&n=cChlXlC4ht5dckqLFN&sparams=expire%2Cei%2Cip%2Cid%2Citag%2Csource%2Crequiressl%2Cspc%2Cvprv%2Cmime%2Cns%2Cgir%2Cclen%2Cratebypass%2Cdur%2Clmt&sig=AOq0QJ8wRgIhALmvc_TEGhxMxR9rVJvgzZbIIKP3i01wC7xGcETJI4TTAiEAl4s251GaIcoGzfR25LUKx1xzwXX75xn5jxqvLHfQJn0%3D&lsparams=mh%2Cmm%2Cmn%2Cms%2Cmv%2Cmvi%2Cpl&lsig=AG3C_xAwRQIhAKbLX9twx9zBP9M-a2frSfESvChKDIytDh83UxD6qYZiAiBVhBxmlpyinJ00vNiiJPw4saT2L9m4UhZONbOvKi9VEQ%3D%3D'\n",
            "[download] Destination: Зеленый Слоник (часть 1)-57vv4meBMB8-7:56-8:05-.mp4\n",
            "[debug] ffmpeg command line: ffmpeg -y -loglevel verbose -ss 7:56 -to 8:05 -headers 'User-Agent: Mozilla/5.0 (Windows NT 10.0; Win64; x64) AppleWebKit/537.36 (KHTML, like Gecko) Chrome/74.0.3729.59 Safari/537.36\n",
            "Accept-Charset: ISO-8859-1,utf-8;q=0.7,*;q=0.7\n",
            "Accept: text/html,application/xhtml+xml,application/xml;q=0.9,*/*;q=0.8\n",
            "Accept-Encoding: gzip, deflate\n",
            "Accept-Language: en-us,en;q=0.5\n",
            "' -i 'https://rr2---sn-q4flrnl6.googlevideo.com/videoplayback?expire=1655166225&ei=sYCnYtnBHdrmkgbivKrwDA&ip=34.125.228.75&id=o-AJp1wmoK1ANjLs411pEDnQ6O5wJ_q5pbpEexThAKI5th&itag=18&source=youtube&requiressl=yes&mh=OT&mm=31%2C29&mn=sn-q4flrnl6%2Csn-q4fl6ns7&ms=au%2Crdu&mv=u&mvi=2&pl=24&spc=4ocVC_slNh99NAXsqUtPYmybuDKflfQ&vprv=1&mime=video%2Fmp4&ns=TzLvW42-RPQs-0x5GbbNrYAG&gir=yes&clen=23929571&ratebypass=yes&dur=582.240&lmt=1429702818095855&mt=1655144072&fvip=3&fexp=24001373%2C24007246&c=WEB&n=cChlXlC4ht5dckqLFN&sparams=expire%2Cei%2Cip%2Cid%2Citag%2Csource%2Crequiressl%2Cspc%2Cvprv%2Cmime%2Cns%2Cgir%2Cclen%2Cratebypass%2Cdur%2Clmt&sig=AOq0QJ8wRgIhALmvc_TEGhxMxR9rVJvgzZbIIKP3i01wC7xGcETJI4TTAiEAl4s251GaIcoGzfR25LUKx1xzwXX75xn5jxqvLHfQJn0%3D&lsparams=mh%2Cmm%2Cmn%2Cms%2Cmv%2Cmvi%2Cpl&lsig=AG3C_xAwRQIhAKbLX9twx9zBP9M-a2frSfESvChKDIytDh83UxD6qYZiAiBVhBxmlpyinJ00vNiiJPw4saT2L9m4UhZONbOvKi9VEQ%3D%3D' -c copy -f mp4 'file:Зеленый Слоник (часть 1)-57vv4meBMB8-7:56-8:05-.mp4.part'\n",
            "[ffmpeg] Downloaded 427343 bytes\n",
            "[download] 100% of 417.33KiB in 00:09\n",
            "{'filename': 'Зеленый Слоник (часть 1)-57vv4meBMB8-7:56-8:05-.mp4', 'status': 'finished', 'elapsed': 9.502872228622437, 'downloaded_bytes': 427343, 'total_bytes': 427343, '_total_bytes_str': '417.33KiB', '_elapsed_str': '00:09'}\n",
            "Moviepy - Building video test.mp4.\n",
            "MoviePy - Writing audio in testTEMP_MPY_wvf_snd.mp3\n"
          ]
        },
        {
          "output_type": "stream",
          "name": "stderr",
          "text": [
            ""
          ]
        },
        {
          "output_type": "stream",
          "name": "stdout",
          "text": [
            "MoviePy - Done.\n",
            "Moviepy - Writing video test.mp4\n",
            "\n"
          ]
        },
        {
          "output_type": "stream",
          "name": "stderr",
          "text": [
            ""
          ]
        },
        {
          "output_type": "stream",
          "name": "stdout",
          "text": [
            "Moviepy - Done !\n",
            "Moviepy - video ready test.mp4\n",
            "debug\n",
            "{'id': '57vv4meBMB8', 'title': 'Зеленый Слоник (часть 1)', 'formats': [{'asr': 48000, 'filesize': 3747322, 'format_id': '249', 'format_note': 'tiny', 'fps': None, 'height': None, 'quality': 0, 'tbr': 51.491, 'url': 'https://rr2---sn-q4flrnl6.googlevideo.com/videoplayback?expire=1655166225&ei=sYCnYtnBHdrmkgbivKrwDA&ip=34.125.228.75&id=o-AJp1wmoK1ANjLs411pEDnQ6O5wJ_q5pbpEexThAKI5th&itag=249&source=youtube&requiressl=yes&mh=OT&mm=31%2C29&mn=sn-q4flrnl6%2Csn-q4fl6ns7&ms=au%2Crdu&mv=u&mvi=2&pl=24&spc=4ocVC_slNh99NAXsqUtPYmybuDKflfQ&vprv=1&mime=audio%2Fwebm&ns=MMZ0DXCulF3xOgUFsjTaIokG&gir=yes&clen=3747322&dur=582.201&lmt=1497190896255709&mt=1655144072&fvip=3&keepalive=yes&fexp=24001373%2C24007246&c=WEB&n=CUFwP-axAK8OcPX9mh&sparams=expire%2Cei%2Cip%2Cid%2Citag%2Csource%2Crequiressl%2Cspc%2Cvprv%2Cmime%2Cns%2Cgir%2Cclen%2Cdur%2Clmt&sig=AOq0QJ8wRQIgMJrF8U3nIi73H1V8wasgZannEBfmNDP516s5NbZ9CjkCIQDKW9HW3GOWCtKnMUzJmYRjz24_ErGJKi8cP9knyLU0_g%3D%3D&lsparams=mh%2Cmm%2Cmn%2Cms%2Cmv%2Cmvi%2Cpl&lsig=AG3C_xAwRQIhAKbLX9twx9zBP9M-a2frSfESvChKDIytDh83UxD6qYZiAiBVhBxmlpyinJ00vNiiJPw4saT2L9m4UhZONbOvKi9VEQ%3D%3D', 'width': None, 'ext': 'webm', 'vcodec': 'none', 'acodec': 'opus', 'abr': 51.491, 'downloader_options': {'http_chunk_size': 10485760}, 'container': 'webm_dash', 'format': '249 - audio only (tiny)', 'protocol': 'https', 'http_headers': {'User-Agent': 'Mozilla/5.0 (Windows NT 10.0; Win64; x64) AppleWebKit/537.36 (KHTML, like Gecko) Chrome/74.0.3729.59 Safari/537.36', 'Accept-Charset': 'ISO-8859-1,utf-8;q=0.7,*;q=0.7', 'Accept': 'text/html,application/xhtml+xml,application/xml;q=0.9,*/*;q=0.8', 'Accept-Encoding': 'gzip, deflate', 'Accept-Language': 'en-us,en;q=0.5'}}, {'asr': 48000, 'filesize': 4839276, 'format_id': '250', 'format_note': 'tiny', 'fps': None, 'height': None, 'quality': 0, 'tbr': 66.496, 'url': 'https://rr2---sn-q4flrnl6.googlevideo.com/videoplayback?expire=1655166225&ei=sYCnYtnBHdrmkgbivKrwDA&ip=34.125.228.75&id=o-AJp1wmoK1ANjLs411pEDnQ6O5wJ_q5pbpEexThAKI5th&itag=250&source=youtube&requiressl=yes&mh=OT&mm=31%2C29&mn=sn-q4flrnl6%2Csn-q4fl6ns7&ms=au%2Crdu&mv=u&mvi=2&pl=24&spc=4ocVC_slNh99NAXsqUtPYmybuDKflfQ&vprv=1&mime=audio%2Fwebm&ns=MMZ0DXCulF3xOgUFsjTaIokG&gir=yes&clen=4839276&dur=582.201&lmt=1497190891868939&mt=1655144072&fvip=3&keepalive=yes&fexp=24001373%2C24007246&c=WEB&n=CUFwP-axAK8OcPX9mh&sparams=expire%2Cei%2Cip%2Cid%2Citag%2Csource%2Crequiressl%2Cspc%2Cvprv%2Cmime%2Cns%2Cgir%2Cclen%2Cdur%2Clmt&sig=AOq0QJ8wRQIgT0XtjMvkjUrwRHA3jumOnPvCRl3vSwjZPLvuHAg_iuYCIQCLbbJyViCvPYx6S6dCudPDFzePRoVeqosQ91D1uIinDg%3D%3D&lsparams=mh%2Cmm%2Cmn%2Cms%2Cmv%2Cmvi%2Cpl&lsig=AG3C_xAwRQIhAKbLX9twx9zBP9M-a2frSfESvChKDIytDh83UxD6qYZiAiBVhBxmlpyinJ00vNiiJPw4saT2L9m4UhZONbOvKi9VEQ%3D%3D', 'width': None, 'ext': 'webm', 'vcodec': 'none', 'acodec': 'opus', 'abr': 66.496, 'downloader_options': {'http_chunk_size': 10485760}, 'container': 'webm_dash', 'format': '250 - audio only (tiny)', 'protocol': 'https', 'http_headers': {'User-Agent': 'Mozilla/5.0 (Windows NT 10.0; Win64; x64) AppleWebKit/537.36 (KHTML, like Gecko) Chrome/74.0.3729.59 Safari/537.36', 'Accept-Charset': 'ISO-8859-1,utf-8;q=0.7,*;q=0.7', 'Accept': 'text/html,application/xhtml+xml,application/xml;q=0.9,*/*;q=0.8', 'Accept-Encoding': 'gzip, deflate', 'Accept-Language': 'en-us,en;q=0.5'}}, {'asr': 44100, 'filesize': 6919402, 'format_id': '140', 'format_note': 'tiny', 'fps': None, 'height': None, 'quality': 0, 'tbr': 95.069, 'url': 'https://rr2---sn-q4flrnl6.googlevideo.com/videoplayback?expire=1655166225&ei=sYCnYtnBHdrmkgbivKrwDA&ip=34.125.228.75&id=o-AJp1wmoK1ANjLs411pEDnQ6O5wJ_q5pbpEexThAKI5th&itag=140&source=youtube&requiressl=yes&mh=OT&mm=31%2C29&mn=sn-q4flrnl6%2Csn-q4fl6ns7&ms=au%2Crdu&mv=u&mvi=2&pl=24&spc=4ocVC_slNh99NAXsqUtPYmybuDKflfQ&vprv=1&mime=audio%2Fmp4&ns=MMZ0DXCulF3xOgUFsjTaIokG&gir=yes&clen=6919402&dur=582.263&lmt=1507865215395034&mt=1655144072&fvip=3&keepalive=yes&fexp=24001373%2C24007246&c=WEB&n=CUFwP-axAK8OcPX9mh&sparams=expire%2Cei%2Cip%2Cid%2Citag%2Csource%2Crequiressl%2Cspc%2Cvprv%2Cmime%2Cns%2Cgir%2Cclen%2Cdur%2Clmt&sig=AOq0QJ8wRgIhAIxpwFHtduCr9ASyml0WMySLRRs_z5hPUZoefmYY_EiJAiEA-GwWIYsFwGm9OufdpLU0Dy8nQCJMw3flZMa4iyngE_o%3D&lsparams=mh%2Cmm%2Cmn%2Cms%2Cmv%2Cmvi%2Cpl&lsig=AG3C_xAwRQIhAKbLX9twx9zBP9M-a2frSfESvChKDIytDh83UxD6qYZiAiBVhBxmlpyinJ00vNiiJPw4saT2L9m4UhZONbOvKi9VEQ%3D%3D', 'width': None, 'ext': 'm4a', 'vcodec': 'none', 'acodec': 'mp4a.40.2', 'abr': 95.069, 'downloader_options': {'http_chunk_size': 10485760}, 'container': 'm4a_dash', 'format': '140 - audio only (tiny)', 'protocol': 'https', 'http_headers': {'User-Agent': 'Mozilla/5.0 (Windows NT 10.0; Win64; x64) AppleWebKit/537.36 (KHTML, like Gecko) Chrome/74.0.3729.59 Safari/537.36', 'Accept-Charset': 'ISO-8859-1,utf-8;q=0.7,*;q=0.7', 'Accept': 'text/html,application/xhtml+xml,application/xml;q=0.9,*/*;q=0.8', 'Accept-Encoding': 'gzip, deflate', 'Accept-Language': 'en-us,en;q=0.5'}}, {'asr': 48000, 'filesize': 7043644, 'format_id': '251', 'format_note': 'tiny', 'fps': None, 'height': None, 'quality': 0, 'tbr': 96.786, 'url': 'https://rr2---sn-q4flrnl6.googlevideo.com/videoplayback?expire=1655166225&ei=sYCnYtnBHdrmkgbivKrwDA&ip=34.125.228.75&id=o-AJp1wmoK1ANjLs411pEDnQ6O5wJ_q5pbpEexThAKI5th&itag=251&source=youtube&requiressl=yes&mh=OT&mm=31%2C29&mn=sn-q4flrnl6%2Csn-q4fl6ns7&ms=au%2Crdu&mv=u&mvi=2&pl=24&spc=4ocVC_slNh99NAXsqUtPYmybuDKflfQ&vprv=1&mime=audio%2Fwebm&ns=MMZ0DXCulF3xOgUFsjTaIokG&gir=yes&clen=7043644&dur=582.201&lmt=1497190893479699&mt=1655144072&fvip=3&keepalive=yes&fexp=24001373%2C24007246&c=WEB&n=CUFwP-axAK8OcPX9mh&sparams=expire%2Cei%2Cip%2Cid%2Citag%2Csource%2Crequiressl%2Cspc%2Cvprv%2Cmime%2Cns%2Cgir%2Cclen%2Cdur%2Clmt&sig=AOq0QJ8wRQIhAK_43C3Q9Z6-l5aPG39lqJe0WqqLnEyIDacKVld9-p1AAiA16COZJjy1IvA8HcEK_Wad_by2eP0pgN59hVqkWfvIIQ%3D%3D&lsparams=mh%2Cmm%2Cmn%2Cms%2Cmv%2Cmvi%2Cpl&lsig=AG3C_xAwRQIhAKbLX9twx9zBP9M-a2frSfESvChKDIytDh83UxD6qYZiAiBVhBxmlpyinJ00vNiiJPw4saT2L9m4UhZONbOvKi9VEQ%3D%3D', 'width': None, 'ext': 'webm', 'vcodec': 'none', 'acodec': 'opus', 'abr': 96.786, 'downloader_options': {'http_chunk_size': 10485760}, 'container': 'webm_dash', 'format': '251 - audio only (tiny)', 'protocol': 'https', 'http_headers': {'User-Agent': 'Mozilla/5.0 (Windows NT 10.0; Win64; x64) AppleWebKit/537.36 (KHTML, like Gecko) Chrome/74.0.3729.59 Safari/537.36', 'Accept-Charset': 'ISO-8859-1,utf-8;q=0.7,*;q=0.7', 'Accept': 'text/html,application/xhtml+xml,application/xml;q=0.9,*/*;q=0.8', 'Accept-Encoding': 'gzip, deflate', 'Accept-Language': 'en-us,en;q=0.5'}}, {'asr': None, 'filesize': 4105881, 'format_id': '160', 'format_note': '144p', 'fps': 25, 'height': 144, 'quality': 0, 'tbr': 56.418, 'url': 'https://rr2---sn-q4flrnl6.googlevideo.com/videoplayback?expire=1655166225&ei=sYCnYtnBHdrmkgbivKrwDA&ip=34.125.228.75&id=o-AJp1wmoK1ANjLs411pEDnQ6O5wJ_q5pbpEexThAKI5th&itag=160&aitags=133%2C160%2C242%2C278%2C394%2C395&source=youtube&requiressl=yes&mh=OT&mm=31%2C29&mn=sn-q4flrnl6%2Csn-q4fl6ns7&ms=au%2Crdu&mv=u&mvi=2&pl=24&spc=4ocVC_slNh99NAXsqUtPYmybuDKflfQ&vprv=1&mime=video%2Fmp4&ns=MMZ0DXCulF3xOgUFsjTaIokG&gir=yes&clen=4105881&dur=582.200&lmt=1507865210781892&mt=1655144072&fvip=3&keepalive=yes&fexp=24001373%2C24007246&c=WEB&n=CUFwP-axAK8OcPX9mh&sparams=expire%2Cei%2Cip%2Cid%2Caitags%2Csource%2Crequiressl%2Cspc%2Cvprv%2Cmime%2Cns%2Cgir%2Cclen%2Cdur%2Clmt&sig=AOq0QJ8wRQIgfDPJkd040BiEHI4ZqJxQhhLR8Y6dgJ2OBJG4_q_kdxQCIQDRdamA5Ey483wB6s76d9-vv3ab-Kz4Ht-tkbrqG6LygQ%3D%3D&lsparams=mh%2Cmm%2Cmn%2Cms%2Cmv%2Cmvi%2Cpl&lsig=AG3C_xAwRQIhAKbLX9twx9zBP9M-a2frSfESvChKDIytDh83UxD6qYZiAiBVhBxmlpyinJ00vNiiJPw4saT2L9m4UhZONbOvKi9VEQ%3D%3D', 'width': 192, 'ext': 'mp4', 'vcodec': 'avc1.4d400b', 'acodec': 'none', 'vbr': 56.418, 'downloader_options': {'http_chunk_size': 10485760}, 'container': 'mp4_dash', 'format': '160 - 192x144 (144p)', 'protocol': 'https', 'http_headers': {'User-Agent': 'Mozilla/5.0 (Windows NT 10.0; Win64; x64) AppleWebKit/537.36 (KHTML, like Gecko) Chrome/74.0.3729.59 Safari/537.36', 'Accept-Charset': 'ISO-8859-1,utf-8;q=0.7,*;q=0.7', 'Accept': 'text/html,application/xhtml+xml,application/xml;q=0.9,*/*;q=0.8', 'Accept-Encoding': 'gzip, deflate', 'Accept-Language': 'en-us,en;q=0.5'}}, {'asr': None, 'filesize': 5153628, 'format_id': '394', 'format_note': '144p', 'fps': 25, 'height': 144, 'quality': 0, 'tbr': 70.815, 'url': 'https://rr2---sn-q4flrnl6.googlevideo.com/videoplayback?expire=1655166225&ei=sYCnYtnBHdrmkgbivKrwDA&ip=34.125.228.75&id=o-AJp1wmoK1ANjLs411pEDnQ6O5wJ_q5pbpEexThAKI5th&itag=394&aitags=133%2C160%2C242%2C278%2C394%2C395&source=youtube&requiressl=yes&mh=OT&mm=31%2C29&mn=sn-q4flrnl6%2Csn-q4fl6ns7&ms=au%2Crdu&mv=u&mvi=2&pl=24&spc=4ocVC_slNh99NAXsqUtPYmybuDKflfQ&vprv=1&mime=video%2Fmp4&ns=MMZ0DXCulF3xOgUFsjTaIokG&gir=yes&clen=5153628&dur=582.200&lmt=1642157649342868&mt=1655144072&fvip=3&keepalive=yes&fexp=24001373%2C24007246&c=WEB&txp=1430434&n=CUFwP-axAK8OcPX9mh&sparams=expire%2Cei%2Cip%2Cid%2Caitags%2Csource%2Crequiressl%2Cspc%2Cvprv%2Cmime%2Cns%2Cgir%2Cclen%2Cdur%2Clmt&sig=AOq0QJ8wRQIgePa6bE9kMgw-Se6ZiEyGQI0zeG-segmdX4SdKLdsR7sCIQCrJJraNu6xUqB2G_ttEpiycNDfZdhJ61Xkcf1vqdSIlg%3D%3D&lsparams=mh%2Cmm%2Cmn%2Cms%2Cmv%2Cmvi%2Cpl&lsig=AG3C_xAwRQIhAKbLX9twx9zBP9M-a2frSfESvChKDIytDh83UxD6qYZiAiBVhBxmlpyinJ00vNiiJPw4saT2L9m4UhZONbOvKi9VEQ%3D%3D', 'width': 192, 'ext': 'mp4', 'vcodec': 'av01.0.00M.08', 'acodec': 'none', 'vbr': 70.815, 'downloader_options': {'http_chunk_size': 10485760}, 'container': 'mp4_dash', 'format': '394 - 192x144 (144p)', 'protocol': 'https', 'http_headers': {'User-Agent': 'Mozilla/5.0 (Windows NT 10.0; Win64; x64) AppleWebKit/537.36 (KHTML, like Gecko) Chrome/74.0.3729.59 Safari/537.36', 'Accept-Charset': 'ISO-8859-1,utf-8;q=0.7,*;q=0.7', 'Accept': 'text/html,application/xhtml+xml,application/xml;q=0.9,*/*;q=0.8', 'Accept-Encoding': 'gzip, deflate', 'Accept-Language': 'en-us,en;q=0.5'}}, {'asr': None, 'filesize': 5167902, 'format_id': '278', 'format_note': '144p', 'fps': 25, 'height': 144, 'quality': 0, 'tbr': 71.012, 'url': 'https://rr2---sn-q4flrnl6.googlevideo.com/videoplayback?expire=1655166225&ei=sYCnYtnBHdrmkgbivKrwDA&ip=34.125.228.75&id=o-AJp1wmoK1ANjLs411pEDnQ6O5wJ_q5pbpEexThAKI5th&itag=278&aitags=133%2C160%2C242%2C278%2C394%2C395&source=youtube&requiressl=yes&mh=OT&mm=31%2C29&mn=sn-q4flrnl6%2Csn-q4fl6ns7&ms=au%2Crdu&mv=u&mvi=2&pl=24&spc=4ocVC_slNh99NAXsqUtPYmybuDKflfQ&vprv=1&mime=video%2Fwebm&ns=MMZ0DXCulF3xOgUFsjTaIokG&gir=yes&clen=5167902&dur=582.200&lmt=1542477522139046&mt=1655144072&fvip=3&keepalive=yes&fexp=24001373%2C24007246&c=WEB&txp=5432432&n=CUFwP-axAK8OcPX9mh&sparams=expire%2Cei%2Cip%2Cid%2Caitags%2Csource%2Crequiressl%2Cspc%2Cvprv%2Cmime%2Cns%2Cgir%2Cclen%2Cdur%2Clmt&sig=AOq0QJ8wRQIgDHXD0iqVb2hHCt6zTZMDdlrpX08rS85Daf-lSYW12-ECIQCkQ85dWlg0JjUOg0i118Xrujfzq4G-XGHswOyf2_yplg%3D%3D&lsparams=mh%2Cmm%2Cmn%2Cms%2Cmv%2Cmvi%2Cpl&lsig=AG3C_xAwRQIhAKbLX9twx9zBP9M-a2frSfESvChKDIytDh83UxD6qYZiAiBVhBxmlpyinJ00vNiiJPw4saT2L9m4UhZONbOvKi9VEQ%3D%3D', 'width': 192, 'ext': 'webm', 'vcodec': 'vp9', 'acodec': 'none', 'vbr': 71.012, 'downloader_options': {'http_chunk_size': 10485760}, 'container': 'webm_dash', 'format': '278 - 192x144 (144p)', 'protocol': 'https', 'http_headers': {'User-Agent': 'Mozilla/5.0 (Windows NT 10.0; Win64; x64) AppleWebKit/537.36 (KHTML, like Gecko) Chrome/74.0.3729.59 Safari/537.36', 'Accept-Charset': 'ISO-8859-1,utf-8;q=0.7,*;q=0.7', 'Accept': 'text/html,application/xhtml+xml,application/xml;q=0.9,*/*;q=0.8', 'Accept-Encoding': 'gzip, deflate', 'Accept-Language': 'en-us,en;q=0.5'}}, {'asr': None, 'filesize': 7643044, 'format_id': '133', 'format_note': '240p', 'fps': 25, 'height': 240, 'quality': 1, 'tbr': 105.022, 'url': 'https://rr2---sn-q4flrnl6.googlevideo.com/videoplayback?expire=1655166225&ei=sYCnYtnBHdrmkgbivKrwDA&ip=34.125.228.75&id=o-AJp1wmoK1ANjLs411pEDnQ6O5wJ_q5pbpEexThAKI5th&itag=133&aitags=133%2C160%2C242%2C278%2C394%2C395&source=youtube&requiressl=yes&mh=OT&mm=31%2C29&mn=sn-q4flrnl6%2Csn-q4fl6ns7&ms=au%2Crdu&mv=u&mvi=2&pl=24&spc=4ocVC_slNh99NAXsqUtPYmybuDKflfQ&vprv=1&mime=video%2Fmp4&ns=MMZ0DXCulF3xOgUFsjTaIokG&gir=yes&clen=7643044&dur=582.200&lmt=1507865210833058&mt=1655144072&fvip=3&keepalive=yes&fexp=24001373%2C24007246&c=WEB&n=CUFwP-axAK8OcPX9mh&sparams=expire%2Cei%2Cip%2Cid%2Caitags%2Csource%2Crequiressl%2Cspc%2Cvprv%2Cmime%2Cns%2Cgir%2Cclen%2Cdur%2Clmt&sig=AOq0QJ8wRQIhAPxKbbexyz9JXUC5WqUdtuQfn_O441Oxd2FQ0iY_8vWLAiBhkmFo4LTRiVpmAPmSWRJ23BDkhPHdEuqvAXRrnnwWuQ%3D%3D&lsparams=mh%2Cmm%2Cmn%2Cms%2Cmv%2Cmvi%2Cpl&lsig=AG3C_xAwRQIhAKbLX9twx9zBP9M-a2frSfESvChKDIytDh83UxD6qYZiAiBVhBxmlpyinJ00vNiiJPw4saT2L9m4UhZONbOvKi9VEQ%3D%3D', 'width': 320, 'ext': 'mp4', 'vcodec': 'avc1.4d400d', 'acodec': 'none', 'vbr': 105.022, 'downloader_options': {'http_chunk_size': 10485760}, 'container': 'mp4_dash', 'format': '133 - 320x240 (240p)', 'protocol': 'https', 'http_headers': {'User-Agent': 'Mozilla/5.0 (Windows NT 10.0; Win64; x64) AppleWebKit/537.36 (KHTML, like Gecko) Chrome/74.0.3729.59 Safari/537.36', 'Accept-Charset': 'ISO-8859-1,utf-8;q=0.7,*;q=0.7', 'Accept': 'text/html,application/xhtml+xml,application/xml;q=0.9,*/*;q=0.8', 'Accept-Encoding': 'gzip, deflate', 'Accept-Language': 'en-us,en;q=0.5'}}, {'asr': None, 'filesize': 7795359, 'format_id': '395', 'format_note': '240p', 'fps': 25, 'height': 240, 'quality': 1, 'tbr': 107.115, 'url': 'https://rr2---sn-q4flrnl6.googlevideo.com/videoplayback?expire=1655166225&ei=sYCnYtnBHdrmkgbivKrwDA&ip=34.125.228.75&id=o-AJp1wmoK1ANjLs411pEDnQ6O5wJ_q5pbpEexThAKI5th&itag=395&aitags=133%2C160%2C242%2C278%2C394%2C395&source=youtube&requiressl=yes&mh=OT&mm=31%2C29&mn=sn-q4flrnl6%2Csn-q4fl6ns7&ms=au%2Crdu&mv=u&mvi=2&pl=24&spc=4ocVC_slNh99NAXsqUtPYmybuDKflfQ&vprv=1&mime=video%2Fmp4&ns=MMZ0DXCulF3xOgUFsjTaIokG&gir=yes&clen=7795359&dur=582.200&lmt=1642157649965160&mt=1655144072&fvip=3&keepalive=yes&fexp=24001373%2C24007246&c=WEB&txp=1430434&n=CUFwP-axAK8OcPX9mh&sparams=expire%2Cei%2Cip%2Cid%2Caitags%2Csource%2Crequiressl%2Cspc%2Cvprv%2Cmime%2Cns%2Cgir%2Cclen%2Cdur%2Clmt&sig=AOq0QJ8wRQIgE7C6VBM1CoQbmFcdg_GWEebsgTKnBMTnAh5ev644tD0CIQDB-9gnMR5MTjc2Q1G5bxBSCOEDFDMnyWpQUBD6sF4v9Q%3D%3D&lsparams=mh%2Cmm%2Cmn%2Cms%2Cmv%2Cmvi%2Cpl&lsig=AG3C_xAwRQIhAKbLX9twx9zBP9M-a2frSfESvChKDIytDh83UxD6qYZiAiBVhBxmlpyinJ00vNiiJPw4saT2L9m4UhZONbOvKi9VEQ%3D%3D', 'width': 320, 'ext': 'mp4', 'vcodec': 'av01.0.00M.08', 'acodec': 'none', 'vbr': 107.115, 'downloader_options': {'http_chunk_size': 10485760}, 'container': 'mp4_dash', 'format': '395 - 320x240 (240p)', 'protocol': 'https', 'http_headers': {'User-Agent': 'Mozilla/5.0 (Windows NT 10.0; Win64; x64) AppleWebKit/537.36 (KHTML, like Gecko) Chrome/74.0.3729.59 Safari/537.36', 'Accept-Charset': 'ISO-8859-1,utf-8;q=0.7,*;q=0.7', 'Accept': 'text/html,application/xhtml+xml,application/xml;q=0.9,*/*;q=0.8', 'Accept-Encoding': 'gzip, deflate', 'Accept-Language': 'en-us,en;q=0.5'}}, {'asr': None, 'filesize': 9435509, 'format_id': '242', 'format_note': '240p', 'fps': 25, 'height': 240, 'quality': 1, 'tbr': 129.653, 'url': 'https://rr2---sn-q4flrnl6.googlevideo.com/videoplayback?expire=1655166225&ei=sYCnYtnBHdrmkgbivKrwDA&ip=34.125.228.75&id=o-AJp1wmoK1ANjLs411pEDnQ6O5wJ_q5pbpEexThAKI5th&itag=242&aitags=133%2C160%2C242%2C278%2C394%2C395&source=youtube&requiressl=yes&mh=OT&mm=31%2C29&mn=sn-q4flrnl6%2Csn-q4fl6ns7&ms=au%2Crdu&mv=u&mvi=2&pl=24&spc=4ocVC_slNh99NAXsqUtPYmybuDKflfQ&vprv=1&mime=video%2Fwebm&ns=MMZ0DXCulF3xOgUFsjTaIokG&gir=yes&clen=9435509&dur=582.200&lmt=1542477522135673&mt=1655144072&fvip=3&keepalive=yes&fexp=24001373%2C24007246&c=WEB&txp=5432432&n=CUFwP-axAK8OcPX9mh&sparams=expire%2Cei%2Cip%2Cid%2Caitags%2Csource%2Crequiressl%2Cspc%2Cvprv%2Cmime%2Cns%2Cgir%2Cclen%2Cdur%2Clmt&sig=AOq0QJ8wRQIgJ9Es9ShbsLftVVSG79EQBtX8blBtNuxwst2VImPdHbgCIQC8hi4hcmISlptlOWRrAMOCK-t4Cdcr6uq1t3Bh-Alutw%3D%3D&lsparams=mh%2Cmm%2Cmn%2Cms%2Cmv%2Cmvi%2Cpl&lsig=AG3C_xAwRQIhAKbLX9twx9zBP9M-a2frSfESvChKDIytDh83UxD6qYZiAiBVhBxmlpyinJ00vNiiJPw4saT2L9m4UhZONbOvKi9VEQ%3D%3D', 'width': 320, 'ext': 'webm', 'vcodec': 'vp9', 'acodec': 'none', 'vbr': 129.653, 'downloader_options': {'http_chunk_size': 10485760}, 'container': 'webm_dash', 'format': '242 - 320x240 (240p)', 'protocol': 'https', 'http_headers': {'User-Agent': 'Mozilla/5.0 (Windows NT 10.0; Win64; x64) AppleWebKit/537.36 (KHTML, like Gecko) Chrome/74.0.3729.59 Safari/537.36', 'Accept-Charset': 'ISO-8859-1,utf-8;q=0.7,*;q=0.7', 'Accept': 'text/html,application/xhtml+xml,application/xml;q=0.9,*/*;q=0.8', 'Accept-Encoding': 'gzip, deflate', 'Accept-Language': 'en-us,en;q=0.5'}}, {'asr': 44100, 'filesize': 23929571, 'format_id': '18', 'format_note': '240p', 'fps': 25, 'height': 240, 'quality': 1, 'tbr': 328.793, 'url': 'https://rr2---sn-q4flrnl6.googlevideo.com/videoplayback?expire=1655166225&ei=sYCnYtnBHdrmkgbivKrwDA&ip=34.125.228.75&id=o-AJp1wmoK1ANjLs411pEDnQ6O5wJ_q5pbpEexThAKI5th&itag=18&source=youtube&requiressl=yes&mh=OT&mm=31%2C29&mn=sn-q4flrnl6%2Csn-q4fl6ns7&ms=au%2Crdu&mv=u&mvi=2&pl=24&spc=4ocVC_slNh99NAXsqUtPYmybuDKflfQ&vprv=1&mime=video%2Fmp4&ns=TzLvW42-RPQs-0x5GbbNrYAG&gir=yes&clen=23929571&ratebypass=yes&dur=582.240&lmt=1429702818095855&mt=1655144072&fvip=3&fexp=24001373%2C24007246&c=WEB&n=cChlXlC4ht5dckqLFN&sparams=expire%2Cei%2Cip%2Cid%2Citag%2Csource%2Crequiressl%2Cspc%2Cvprv%2Cmime%2Cns%2Cgir%2Cclen%2Cratebypass%2Cdur%2Clmt&sig=AOq0QJ8wRgIhALmvc_TEGhxMxR9rVJvgzZbIIKP3i01wC7xGcETJI4TTAiEAl4s251GaIcoGzfR25LUKx1xzwXX75xn5jxqvLHfQJn0%3D&lsparams=mh%2Cmm%2Cmn%2Cms%2Cmv%2Cmvi%2Cpl&lsig=AG3C_xAwRQIhAKbLX9twx9zBP9M-a2frSfESvChKDIytDh83UxD6qYZiAiBVhBxmlpyinJ00vNiiJPw4saT2L9m4UhZONbOvKi9VEQ%3D%3D', 'width': 320, 'ext': 'mp4', 'vcodec': 'avc1.42001E', 'acodec': 'mp4a.40.2', 'format': '18 - 320x240 (240p)', 'protocol': 'https', 'http_headers': {'User-Agent': 'Mozilla/5.0 (Windows NT 10.0; Win64; x64) AppleWebKit/537.36 (KHTML, like Gecko) Chrome/74.0.3729.59 Safari/537.36', 'Accept-Charset': 'ISO-8859-1,utf-8;q=0.7,*;q=0.7', 'Accept': 'text/html,application/xhtml+xml,application/xml;q=0.9,*/*;q=0.8', 'Accept-Encoding': 'gzip, deflate', 'Accept-Language': 'en-us,en;q=0.5'}}], 'thumbnails': [{'height': 94, 'url': 'https://i.ytimg.com/vi/57vv4meBMB8/hqdefault.jpg?sqp=-oaymwEbCKgBEF5IVfKriqkDDggBFQAAiEIYAXABwAEG&rs=AOn4CLAw8j0JoyMiIZT4wYlx7Qelx2iHZg', 'width': 168, 'resolution': '168x94', 'id': '0'}, {'height': 110, 'url': 'https://i.ytimg.com/vi/57vv4meBMB8/hqdefault.jpg?sqp=-oaymwEbCMQBEG5IVfKriqkDDggBFQAAiEIYAXABwAEG&rs=AOn4CLB44eSAAUyfmDoBlblr3Wr44kl6cA', 'width': 196, 'resolution': '196x110', 'id': '1'}, {'height': 138, 'url': 'https://i.ytimg.com/vi/57vv4meBMB8/hqdefault.jpg?sqp=-oaymwEcCPYBEIoBSFXyq4qpAw4IARUAAIhCGAFwAcABBg==&rs=AOn4CLAAqzvxh27c9aoqU_EqJ_wY30sJAA', 'width': 246, 'resolution': '246x138', 'id': '2'}, {'height': 188, 'url': 'https://i.ytimg.com/vi/57vv4meBMB8/hqdefault.jpg?sqp=-oaymwEcCNACELwBSFXyq4qpAw4IARUAAIhCGAFwAcABBg==&rs=AOn4CLCTxfzC0wG9OdtD6z0XZsF016xg2A', 'width': 336, 'resolution': '336x188', 'id': '3'}], 'description': '.шедефр мирового кинематоргафа', 'upload_date': '20080322', 'uploader': 'jblotv', 'uploader_id': 'teplotay', 'uploader_url': 'http://www.youtube.com/user/teplotay', 'channel_id': 'UCy_D2C4BrdMt0o0FRKg3ILQ', 'channel_url': 'https://www.youtube.com/channel/UCy_D2C4BrdMt0o0FRKg3ILQ', 'duration': 582, 'view_count': 1160868, 'average_rating': None, 'age_limit': 0, 'webpage_url': 'https://www.youtube.com/watch?v=57vv4meBMB8', 'categories': ['Comedy'], 'tags': ['Зеленый', 'Слоник', '(часть', '1)'], 'is_live': None, 'like_count': 6123, 'channel': 'jblotv', 'extractor': 'youtube', 'webpage_url_basename': 'watch', 'extractor_key': 'Youtube', 'playlist': None, 'playlist_index': None, 'thumbnail': 'https://i.ytimg.com/vi/57vv4meBMB8/hqdefault.jpg?sqp=-oaymwEcCNACELwBSFXyq4qpAw4IARUAAIhCGAFwAcABBg==&rs=AOn4CLCTxfzC0wG9OdtD6z0XZsF016xg2A', 'display_id': '57vv4meBMB8', 'requested_subtitles': None, 'asr': 44100, 'filesize': 23929571, 'format_id': '18', 'format_note': '240p', 'fps': 25, 'height': 240, 'quality': 1, 'tbr': 328.793, 'url': 'https://rr2---sn-q4flrnl6.googlevideo.com/videoplayback?expire=1655166225&ei=sYCnYtnBHdrmkgbivKrwDA&ip=34.125.228.75&id=o-AJp1wmoK1ANjLs411pEDnQ6O5wJ_q5pbpEexThAKI5th&itag=18&source=youtube&requiressl=yes&mh=OT&mm=31%2C29&mn=sn-q4flrnl6%2Csn-q4fl6ns7&ms=au%2Crdu&mv=u&mvi=2&pl=24&spc=4ocVC_slNh99NAXsqUtPYmybuDKflfQ&vprv=1&mime=video%2Fmp4&ns=TzLvW42-RPQs-0x5GbbNrYAG&gir=yes&clen=23929571&ratebypass=yes&dur=582.240&lmt=1429702818095855&mt=1655144072&fvip=3&fexp=24001373%2C24007246&c=WEB&n=cChlXlC4ht5dckqLFN&sparams=expire%2Cei%2Cip%2Cid%2Citag%2Csource%2Crequiressl%2Cspc%2Cvprv%2Cmime%2Cns%2Cgir%2Cclen%2Cratebypass%2Cdur%2Clmt&sig=AOq0QJ8wRgIhALmvc_TEGhxMxR9rVJvgzZbIIKP3i01wC7xGcETJI4TTAiEAl4s251GaIcoGzfR25LUKx1xzwXX75xn5jxqvLHfQJn0%3D&lsparams=mh%2Cmm%2Cmn%2Cms%2Cmv%2Cmvi%2Cpl&lsig=AG3C_xAwRQIhAKbLX9twx9zBP9M-a2frSfESvChKDIytDh83UxD6qYZiAiBVhBxmlpyinJ00vNiiJPw4saT2L9m4UhZONbOvKi9VEQ%3D%3D', 'width': 320, 'ext': 'mp4', 'vcodec': 'avc1.42001E', 'acodec': 'mp4a.40.2', 'format': '18 - 320x240 (240p)', 'protocol': 'https', 'http_headers': {'User-Agent': 'Mozilla/5.0 (Windows NT 10.0; Win64; x64) AppleWebKit/537.36 (KHTML, like Gecko) Chrome/74.0.3729.59 Safari/537.36', 'Accept-Charset': 'ISO-8859-1,utf-8;q=0.7,*;q=0.7', 'Accept': 'text/html,application/xhtml+xml,application/xml;q=0.9,*/*;q=0.8', 'Accept-Encoding': 'gzip, deflate', 'Accept-Language': 'en-us,en;q=0.5'}}\n",
            "[youtube] 57vv4meBMB8: Downloading webpage\n",
            "[debug] Invoking downloader on 'https://rr3---sn-q4fl6ns7.googlevideo.com/videoplayback?expire=1655166236&ei=vICnYtGBCpWpkwagxaawAQ&ip=34.125.228.75&id=o-AB1KVkLH30rmuIJPZITNTAgExTPUpAvf-TtKHo1y98u2&itag=18&source=youtube&requiressl=yes&mh=OT&mm=31%2C29&mn=sn-q4fl6ns7%2Csn-q4flrnl6&ms=au%2Crdu&mv=u&mvi=3&pl=24&spc=4ocVC0J7fHaMiKPlqwLyW4A4km_wZvc&vprv=1&mime=video%2Fmp4&ns=dcJCdHMSnNrspWsmh-BOp0EG&gir=yes&clen=23929571&ratebypass=yes&dur=582.240&lmt=1429702818095855&mt=1655144072&fvip=2&fexp=24001373%2C24007246&c=WEB&n=nNIvDZD6-vyZcQumzZ&sparams=expire%2Cei%2Cip%2Cid%2Citag%2Csource%2Crequiressl%2Cspc%2Cvprv%2Cmime%2Cns%2Cgir%2Cclen%2Cratebypass%2Cdur%2Clmt&sig=AOq0QJ8wRQIhAMpIyNUS0GUYWwLLicxfVoYhpdJblxM-tie-IFJGl8VOAiAtj7TUtQybUqjcjxXJZ1ikqtfaALN74x1ykBxNhlbr2w%3D%3D&lsparams=mh%2Cmm%2Cmn%2Cms%2Cmv%2Cmvi%2Cpl&lsig=AG3C_xAwRAIgHEJEWUwHwPhWl2T3OhMP3M28nBPwNGs98_uJvT-PYtoCIHkvHvo1KcP6j9NGJfkOs6VbrWxLSfgunQnjs1m_vu24'\n",
            "[download] Зеленый Слоник (часть 1)-57vv4meBMB8-7:56-8:05-.mp4 has already been downloaded\n",
            "[download] 100% of 417.33KiB\n",
            "{'filename': 'Зеленый Слоник (часть 1)-57vv4meBMB8-7:56-8:05-.mp4', 'status': 'finished', 'total_bytes': 427343, '_total_bytes_str': '417.33KiB'}\n",
            "Moviepy - Building video test.mp4.\n",
            "MoviePy - Writing audio in testTEMP_MPY_wvf_snd.mp3\n"
          ]
        },
        {
          "output_type": "stream",
          "name": "stderr",
          "text": [
            ""
          ]
        },
        {
          "output_type": "stream",
          "name": "stdout",
          "text": [
            "MoviePy - Done.\n",
            "Moviepy - Writing video test.mp4\n",
            "\n"
          ]
        },
        {
          "output_type": "stream",
          "name": "stderr",
          "text": [
            ""
          ]
        },
        {
          "output_type": "stream",
          "name": "stdout",
          "text": [
            "Moviepy - Done !\n",
            "Moviepy - video ready test.mp4\n"
          ]
        },
        {
          "output_type": "execute_result",
          "data": {
            "text/plain": [
              "<__main__.Cutter at 0x7f8e29bcc6d0>"
            ]
          },
          "metadata": {},
          "execution_count": 7
        }
      ],
      "source": [
        "h#@title Download video and apply transformations { display-mode: \"code\" }\n",
        "from moviepy.editor import *\n",
        "\n",
        "\n",
        "class Cutter():\n",
        "\n",
        "  '''\n",
        "  inheriting this allows to accept []\n",
        "  '''\n",
        "  # value = 0\n",
        "  boundaries = []\n",
        "\n",
        "  def __getitem__(self, i):\n",
        "    if type(i) is slice:\n",
        "      print(i)\n",
        "        # if i != 0:\n",
        "            # raise IndexError(\"this container can only hold one object\")\n",
        "    return self.boundaries[i]\n",
        "\n",
        "\n",
        "# a = Cutter()\n",
        "\n",
        "# make timeline - where clips gonna ge stored and order can be operated\n",
        "class Timeline():\n",
        "\n",
        "  pass\n",
        "\n",
        "  # def \n",
        "\n",
        "class WeeLogger(object):\n",
        "    def debug(self, msg):\n",
        "        print(msg)\n",
        "\n",
        "    def warning(self, msg):\n",
        "        print(msg)\n",
        "\n",
        "    def error(self, msg):\n",
        "        print(msg)\n",
        "\n",
        "class WeeClip(VideoFileClip, Cutter):\n",
        "\n",
        "  def __init__(self, filename):\n",
        "    super(WeeClip, self).__init__(filename)\n",
        "    # VideoFileClip()\n",
        "\n",
        "  # def \n",
        "\n",
        "class Downloader():\n",
        "\n",
        "  def __setitem__():\n",
        "    def __setitem__(self, key, value):\n",
        "        if not isinstance(key, int) or key < 0:\n",
        "            raise TypeError(\"Индекс должен быть целым неотрицательным числом\")\n",
        " \n",
        "        self.marks[key] = value\n",
        "    \n",
        "\n",
        "  def __init__(self, link):\n",
        "    Downloader_YoutubeDl(link)\n",
        "    \n",
        "  # def __get__():\n",
        "    # sd\n",
        "    \n",
        "class Downloader_YoutubeDl(Downloader):\n",
        "\n",
        "  bounds = []\n",
        "\n",
        "  def _check_meta():\n",
        "    \n",
        "\n",
        "  def _check_duration():\n",
        "    self.ydl_opts = ydl_opts(\"7:56\", \"8:05\")\n",
        "\n",
        "  def __getitem__(self, i):\n",
        "    returnself.bounds[i]\n",
        "    # if i != 0:\n",
        "      # raise IndexError(\"this container can only hold one object\")\n",
        "      # return self.value\n",
        "\n",
        "  def __init__(self, links):\n",
        "\n",
        "    self.ydl_opts = ydl_opts(\"7:56\", \"8:05\")\n",
        "    # download_video(links)\n",
        "    with youtube_dl.YoutubeDL(self.ydl_opts) as ydl:\n",
        "      dictMetas = {}\n",
        "      for link in links:\n",
        "        dictMetas[link] = ydl.extract_info(link,\n",
        "          download=True)\n",
        "        # if\n",
        "        print(\"debug\") \n",
        "        print(dictMetas[link])\n",
        "      video = ydl.download(links)\n",
        "\n",
        "\n",
        "def process_video_hook(d):\n",
        "    if d['status'] == 'finished':\n",
        "      print(d)\n",
        "      filename = d['filename']\n",
        "      # print(filename)\n",
        "      clip = WeeClip(filename)\n",
        "      # [1:2]\n",
        "      # WeedeoFile(\"\")\n",
        "      clip.subclip(1,2).write_videofile(\"test.mp4\")\n",
        "      # clip = random_sequence(filename)\n",
        "      # video = WeedeoClip(filename)\n",
        "\n",
        "\n",
        "``\n",
        "def ydl_opts(t_from, t_to):\n",
        "  return {\n",
        "    'verbose': True,\n",
        "    'format': 'best',  #format,vebrose,ottmpl\n",
        "    'outtmpl': f'%(title)s-%(id)s-{t_from}-{t_to}-.%(ext)s', # add timestamps\n",
        "    'logger': WeeLogger(),                  #options\n",
        "    'progress_hooks': [process_video_hook],             # how can i find\n",
        "    'external_downloader':\"ffmpeg\",\n",
        "    \"external_downloader_args\": [\"-ss\", t_from, \"-to\", t_to]\n",
        "    # ,\n",
        "    # \"download_archive\": \"downloaded.txt\"\n",
        "}\n",
        "\n",
        "\n",
        "\n",
        "# video_adresses=['https://www.youtube.com/watch?v=Os-E0g96cxE', 'https://www.youtube.com/watch?v=bgsD23wCTQM'] #+ ['https://www.youtube.com/watch?v=iJK2QiH6Mf4'] # чувак, это рэпчик\n",
        "video_adresses=['https://www.youtube.com/watch?v=57vv4meBMB8'] #+ ['https://www.youtube.com/watch?v=iJK2QiH6Mf4'] # чувак, это рэпчик\n",
        "# for address in video_adresses:\n",
        "  # print(address)\n",
        "Downloader(video_adresses)\n",
        "a = Cutter()\n",
        "a\n",
        "# [11:14:0]\n",
        "# a\n",
        "# [0]"
      ]
    },
    {
      "cell_type": "code",
      "source": [
        ""
      ],
      "metadata": {
        "id": "-U3tiy3hUQip"
      },
      "execution_count": null,
      "outputs": []
    }
  ],
  "metadata": {
    "colab": {
      "collapsed_sections": [],
      "name": "Weedeoart-collab-architecturing.ipynb",
      "provenance": [],
      "authorship_tag": "ABX9TyNUkG4LXUpcZBnjOUrCiKKB",
      "include_colab_link": true
    },
    "kernelspec": {
      "display_name": "Python 3",
      "name": "python3"
    },
    "language_info": {
      "name": "python"
    }
  },
  "nbformat": 4,
  "nbformat_minor": 0
}